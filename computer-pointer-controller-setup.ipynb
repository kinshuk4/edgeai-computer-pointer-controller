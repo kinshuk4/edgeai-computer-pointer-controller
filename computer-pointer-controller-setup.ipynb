{
 "cells": [
  {
   "cell_type": "markdown",
   "metadata": {},
   "source": [
    "# Computer Pointer Controller Workflow\n",
    "\n",
    "## Overview\n",
    "We have python script models. Here we just follow the step by step guide to run the model."
   ]
  },
  {
   "cell_type": "markdown",
   "metadata": {},
   "source": [
    "## Step 1: Set Up\n",
    "\n",
    "#### IMPORTANT: Set up paths so we can run Dev Cloud utilities\n",
    "You *must* run this every time you enter a Workspace session.\n",
    "(Tip: select the cell and use **Shift+Enter** to run the cell.)"
   ]
  },
  {
   "cell_type": "markdown",
   "metadata": {},
   "source": [
    "### Step 1.1: Setup OpenVino Environment"
   ]
  },
  {
   "cell_type": "code",
   "execution_count": 1,
   "metadata": {},
   "outputs": [
    {
     "name": "stdout",
     "output_type": "stream",
     "text": [
      "env: PATH=/opt/conda/bin:/opt/spark-2.4.3-bin-hadoop2.7/bin:/opt/conda/bin:/usr/local/sbin:/usr/local/bin:/usr/sbin:/usr/bin:/sbin:/bin:/opt/intel_devcloud_support\n"
     ]
    }
   ],
   "source": [
    "%env PATH=/opt/conda/bin:/opt/spark-2.4.3-bin-hadoop2.7/bin:/opt/conda/bin:/usr/local/sbin:/usr/local/bin:/usr/sbin:/usr/bin:/sbin:/bin:/opt/intel_devcloud_support\n",
    "import os\n",
    "import sys\n",
    "sys.path.insert(0, os.path.abspath('/opt/intel_devcloud_support'))\n",
    "sys.path.insert(0, os.path.abspath('/opt/intel'))"
   ]
  },
  {
   "cell_type": "markdown",
   "metadata": {},
   "source": [
    "### Step 1.2: Download starter code\n",
    "\n",
    "Done"
   ]
  },
  {
   "cell_type": "markdown",
   "metadata": {},
   "source": [
    "### Step 1.3:  (Optional-step): Original Video\n",
    "\n",
    "We can either use video provided in /bin folder in starter code OR a webcam. I am using provided video for now."
   ]
  },
  {
   "cell_type": "code",
   "execution_count": 2,
   "metadata": {},
   "outputs": [
    {
     "ename": "ModuleNotFoundError",
     "evalue": "No module named 'videoHtml'",
     "output_type": "error",
     "traceback": [
      "\u001b[0;31m---------------------------------------------------------------------------\u001b[0m",
      "\u001b[0;31mModuleNotFoundError\u001b[0m                       Traceback (most recent call last)",
      "\u001b[0;32m<ipython-input-2-fe0bfa56f526>\u001b[0m in \u001b[0;36m<module>\u001b[0;34m\u001b[0m\n\u001b[0;32m----> 1\u001b[0;31m \u001b[0;32mimport\u001b[0m \u001b[0mvideoHtml\u001b[0m\u001b[0;34m\u001b[0m\u001b[0;34m\u001b[0m\u001b[0m\n\u001b[0m\u001b[1;32m      2\u001b[0m \u001b[0mvideoHtml\u001b[0m\u001b[0;34m.\u001b[0m\u001b[0mvideoHTML\u001b[0m\u001b[0;34m(\u001b[0m\u001b[0;34m'Origial Video'\u001b[0m\u001b[0;34m,\u001b[0m \u001b[0;34m[\u001b[0m\u001b[0;34m'original_videos/demo.mp4'\u001b[0m\u001b[0;34m]\u001b[0m\u001b[0;34m)\u001b[0m\u001b[0;34m\u001b[0m\u001b[0;34m\u001b[0m\u001b[0m\n",
      "\u001b[0;31mModuleNotFoundError\u001b[0m: No module named 'videoHtml'"
     ]
    }
   ],
   "source": [
    "import videoHtml\n",
    "videoHtml.videoHTML('Origial Video', ['original_videos/demo.mp4'])"
   ]
  },
  {
   "cell_type": "markdown",
   "metadata": {},
   "source": [
    "### Step 1.4 Download the models"
   ]
  },
  {
   "cell_type": "code",
   "execution_count": 3,
   "metadata": {},
   "outputs": [
    {
     "name": "stdout",
     "output_type": "stream",
     "text": [
      "################|| Downloading models ||################\n",
      "\n",
      "========== Downloading models/intel/face-detection-adas-binary-0001/FP32-INT1/face-detection-adas-binary-0001.xml\n",
      "... 100%, 113 KB, 185170 KB/s, 0 seconds passed\n",
      "\n",
      "========== Downloading models/intel/face-detection-adas-binary-0001/FP32-INT1/face-detection-adas-binary-0001.bin\n",
      "... 100%, 1797 KB, 1138 KB/s, 1 seconds passed\n",
      "\n",
      "################|| Post-processing ||################\n",
      "\n",
      "################|| Downloading models ||################\n",
      "\n",
      "========== Downloading models/intel/head-pose-estimation-adas-0001/FP32/head-pose-estimation-adas-0001.xml\n",
      "... 100%, 49 KB, 108249 KB/s, 0 seconds passed\n",
      "\n",
      "========== Downloading models/intel/head-pose-estimation-adas-0001/FP32/head-pose-estimation-adas-0001.bin\n",
      "... 100%, 7468 KB, 3456 KB/s, 2 seconds passed\n",
      "\n",
      "========== Downloading models/intel/head-pose-estimation-adas-0001/FP16/head-pose-estimation-adas-0001.xml\n",
      "... 100%, 49 KB, 169497 KB/s, 0 seconds passed\n",
      "\n",
      "========== Downloading models/intel/head-pose-estimation-adas-0001/FP16/head-pose-estimation-adas-0001.bin\n",
      "... 100%, 3734 KB, 1276 KB/s, 2 seconds passed\n",
      "\n",
      "========== Downloading models/intel/head-pose-estimation-adas-0001/FP16-INT8/head-pose-estimation-adas-0001.xml\n",
      "... 100%, 89 KB, 199088 KB/s, 0 seconds passed\n",
      "\n",
      "========== Downloading models/intel/head-pose-estimation-adas-0001/FP16-INT8/head-pose-estimation-adas-0001.bin\n",
      "... 100%, 2033 KB, 2813 KB/s, 0 seconds passed\n",
      "\n",
      "################|| Post-processing ||################\n",
      "\n",
      "################|| Downloading models ||################\n",
      "\n",
      "========== Downloading models/intel/landmarks-regression-retail-0009/FP32/landmarks-regression-retail-0009.xml\n",
      "... 100%, 41 KB, 171056 KB/s, 0 seconds passed\n",
      "\n",
      "========== Downloading models/intel/landmarks-regression-retail-0009/FP32/landmarks-regression-retail-0009.bin\n",
      "... 100%, 744 KB, 859 KB/s, 0 seconds passed\n",
      "\n",
      "========== Downloading models/intel/landmarks-regression-retail-0009/FP16/landmarks-regression-retail-0009.xml\n",
      "... 100%, 41 KB, 153167 KB/s, 0 seconds passed\n",
      "\n",
      "========== Downloading models/intel/landmarks-regression-retail-0009/FP16/landmarks-regression-retail-0009.bin\n",
      "... 100%, 372 KB, 758 KB/s, 0 seconds passed\n",
      "\n",
      "========== Downloading models/intel/landmarks-regression-retail-0009/FP16-INT8/landmarks-regression-retail-0009.xml\n",
      "... 100%, 75 KB, 221570 KB/s, 0 seconds passed\n",
      "\n",
      "========== Downloading models/intel/landmarks-regression-retail-0009/FP16-INT8/landmarks-regression-retail-0009.bin\n",
      "... 100%, 239 KB, 544 KB/s, 0 seconds passed\n",
      "\n",
      "################|| Post-processing ||################\n",
      "\n",
      "################|| Downloading models ||################\n",
      "\n",
      "========== Downloading models/intel/gaze-estimation-adas-0002/FP32/gaze-estimation-adas-0002.xml\n",
      "... 100%, 62 KB, 120317 KB/s, 0 seconds passed\n",
      "\n",
      "========== Downloading models/intel/gaze-estimation-adas-0002/FP32/gaze-estimation-adas-0002.bin\n",
      "... 100%, 7352 KB, 1578 KB/s, 4 seconds passed\n",
      "\n",
      "========== Downloading models/intel/gaze-estimation-adas-0002/FP16/gaze-estimation-adas-0002.xml\n",
      "... 100%, 62 KB, 190809 KB/s, 0 seconds passed\n",
      "\n",
      "========== Downloading models/intel/gaze-estimation-adas-0002/FP16/gaze-estimation-adas-0002.bin\n",
      "... 100%, 3676 KB, 1506 KB/s, 2 seconds passed\n",
      "\n",
      "========== Downloading models/intel/gaze-estimation-adas-0002/FP16-INT8/gaze-estimation-adas-0002.xml\n",
      "... 100%, 136 KB, 194436 KB/s, 0 seconds passed\n",
      "\n",
      "========== Downloading models/intel/gaze-estimation-adas-0002/FP16-INT8/gaze-estimation-adas-0002.bin\n",
      "... 100%, 2008 KB, 863 KB/s, 2 seconds passed\n",
      "\n",
      "################|| Post-processing ||################\n",
      "\n"
     ]
    }
   ],
   "source": [
    "!python3 /opt/intel/openvino/deployment_tools/tools/model_downloader/downloader.py \\\n",
    "        --name face-detection-adas-binary-0001 --output_dir ./models\n",
    "\n",
    "!python3 /opt/intel/openvino/deployment_tools/tools/model_downloader/downloader.py \\\n",
    "        --name head-pose-estimation-adas-0001 --output_dir ./models\n",
    "\n",
    "!python3 /opt/intel/openvino/deployment_tools/tools/model_downloader/downloader.py \\\n",
    "        --name landmarks-regression-retail-0009 --output_dir ./models\n",
    "\n",
    "!python3 /opt/intel/openvino/deployment_tools/tools/model_downloader/downloader.py \\\n",
    "        --name gaze-estimation-adas-0002 --output_dir ./models"
   ]
  },
  {
   "cell_type": "markdown",
   "metadata": {},
   "source": [
    "## Step 2: Build the Inference Pipeline\n",
    "Using the Inference Engine API, you will need to build a pipeline that runs inference on the models using the inputs. The starter code includes methods that will help you set up this pipeline.\n",
    "\n",
    "Before you start writing any code, the first step is just to get familiar with the starter files and how they will be used to construct the inference pipeline. We'll go over each file in the video below. You should open up the copy you downloaded and follow along."
   ]
  },
  {
   "cell_type": "markdown",
   "metadata": {},
   "source": [
    "### Step 2.1 Get Familiar with starter code\n",
    "Code files to look are in the src/ folder.\n",
    "\n",
    "- model.py\n",
    "- mouse_controller.py\n",
    "- input_feeder.py"
   ]
  },
  {
   "cell_type": "markdown",
   "metadata": {},
   "source": [
    "### Step 2.2 Make copies of the `model.py` file\n",
    "The model.py file contains a sample class for loading, checking, and running inference on a single model. It also has methods to pre-process the inputs and outputs to the model, but these are not yet finished—that will be your job.\n",
    "\n",
    "Since each of the models has different requirements, you'll need to make a copy of model.py for each of the models. There are four models, so you should create four copies of model.py and rename them as follows:\n",
    "\n",
    "- face_detection.py\n",
    "- head_pose_estimation.py\n",
    "- facial_landmarks_detection.py\n",
    "- gaze_estimation.py"
   ]
  },
  {
   "cell_type": "markdown",
   "metadata": {},
   "source": [
    "### Step 3.3 Add job submission script\n",
    "Done"
   ]
  },
  {
   "cell_type": "code",
   "execution_count": null,
   "metadata": {},
   "outputs": [],
   "source": []
  }
 ],
 "metadata": {
  "kernelspec": {
   "display_name": "Python 3",
   "language": "python",
   "name": "python3"
  },
  "language_info": {
   "codemirror_mode": {
    "name": "ipython",
    "version": 3
   },
   "file_extension": ".py",
   "mimetype": "text/x-python",
   "name": "python",
   "nbconvert_exporter": "python",
   "pygments_lexer": "ipython3",
   "version": "3.7.4"
  }
 },
 "nbformat": 4,
 "nbformat_minor": 2
}
